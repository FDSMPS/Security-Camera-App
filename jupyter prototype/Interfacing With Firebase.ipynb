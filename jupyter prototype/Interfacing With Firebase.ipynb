{
 "cells": [
  {
   "cell_type": "code",
   "execution_count": 1,
   "metadata": {},
   "outputs": [],
   "source": [
    "import firebase_admin\n",
    "from firebase_admin import credentials\n",
    "from firebase_admin import db\n",
    "\n",
    "from os.path import join"
   ]
  },
  {
   "cell_type": "code",
   "execution_count": 2,
   "metadata": {},
   "outputs": [],
   "source": [
    "serviceAccountFile = join(\"..\", \"..\", \"firebase\", \"fdsmps-android-firebase-adminsdk-2wplu-a5b2d0a50e.json\")"
   ]
  },
  {
   "cell_type": "code",
   "execution_count": 19,
   "metadata": {},
   "outputs": [
    {
     "name": "stdout",
     "output_type": "stream",
     "text": [
      "The default Firebase app already exists. This means you called initialize_app() more than once without providing an app name as the second argument. In most cases you only need to call initialize_app() once. But if you do want to initialize multiple apps, pass a second argument to initialize_app() to give each app a unique name.\n"
     ]
    }
   ],
   "source": [
    "try:\n",
    "    cred = credentials.Certificate(serviceAccountFile)\n",
    "    firebase_admin.initialize_app(cred, {\n",
    "        'databaseURL': 'https://fdsmps-android.firebaseio.com/'\n",
    "    })\n",
    "except Exception as e:\n",
    "    print(e)"
   ]
  },
  {
   "cell_type": "code",
   "execution_count": 38,
   "metadata": {},
   "outputs": [],
   "source": [
    "root = db.reference()"
   ]
  },
  {
   "cell_type": "code",
   "execution_count": 39,
   "metadata": {},
   "outputs": [],
   "source": [
    "root.set({\n",
    "        'boxes': \n",
    "            {\n",
    "                'box001': {\n",
    "                    'color': 'blue',\n",
    "                    'width': 1,\n",
    "                    'height': 3,\n",
    "                    'length': 2\n",
    "                },\n",
    "                'box002': {\n",
    "                    'color': 'green',\n",
    "                    'width': 1,\n",
    "                    'height': 2,\n",
    "                    'length': 3\n",
    "                },\n",
    "                'box003': {\n",
    "                    'color': 'yellow',\n",
    "                    'width': 3,\n",
    "                    'height': 2,\n",
    "                    'length': 1\n",
    "                }\n",
    "            }\n",
    "        })"
   ]
  },
  {
   "cell_type": "code",
   "execution_count": 40,
   "metadata": {},
   "outputs": [],
   "source": [
    "ref = db.reference('boxes')\n",
    "ref = ref.child(\"1\")\n",
    "ref.set({'name': \"here\"})"
   ]
  },
  {
   "cell_type": "code",
   "execution_count": 41,
   "metadata": {},
   "outputs": [
    {
     "data": {
      "text/plain": [
       "{'boxes': {'1': {'name': 'here'},\n",
       "  'box001': {'color': 'blue', 'height': 3, 'length': 2, 'width': 1},\n",
       "  'box002': {'color': 'green', 'height': 2, 'length': 3, 'width': 1},\n",
       "  'box003': {'color': 'yellow', 'height': 2, 'length': 1, 'width': 3}}}"
      ]
     },
     "execution_count": 41,
     "metadata": {},
     "output_type": "execute_result"
    }
   ],
   "source": [
    "root.get()"
   ]
  },
  {
   "cell_type": "code",
   "execution_count": null,
   "metadata": {},
   "outputs": [],
   "source": []
  }
 ],
 "metadata": {
  "kernelspec": {
   "display_name": "Python 3",
   "language": "python",
   "name": "python3"
  },
  "language_info": {
   "codemirror_mode": {
    "name": "ipython",
    "version": 3
   },
   "file_extension": ".py",
   "mimetype": "text/x-python",
   "name": "python",
   "nbconvert_exporter": "python",
   "pygments_lexer": "ipython3",
   "version": "3.6.5"
  }
 },
 "nbformat": 4,
 "nbformat_minor": 4
}
