{
 "cells": [
  {
   "cell_type": "code",
   "execution_count": 19,
   "metadata": {},
   "outputs": [],
   "source": [
    "import firebase_admin\n",
    "from firebase_admin import credentials\n",
    "from firebase_admin import db\n",
    "\n",
    "from os.path import join\n",
    "from PIL import Image\n",
    "import base64\n",
    "from io import BytesIO\n",
    "from datetime import datetime"
   ]
  },
  {
   "cell_type": "code",
   "execution_count": 2,
   "metadata": {},
   "outputs": [],
   "source": [
    "serviceAccountFile = join(\"..\", \"..\", \"firebase\", \"fdsmps-android-firebase-adminsdk-2wplu-a5b2d0a50e.json\")"
   ]
  },
  {
   "cell_type": "code",
   "execution_count": 3,
   "metadata": {},
   "outputs": [],
   "source": [
    "try:\n",
    "    cred = credentials.Certificate(serviceAccountFile)\n",
    "    firebase_admin.initialize_app(cred, {\n",
    "        'databaseURL': 'https://fdsmps-android.firebaseio.com/'\n",
    "    })\n",
    "except Exception as e:\n",
    "    print(e)"
   ]
  },
  {
   "cell_type": "code",
   "execution_count": 71,
   "metadata": {},
   "outputs": [],
   "source": [
    "root = db.reference()"
   ]
  },
  {
   "cell_type": "code",
   "execution_count": 73,
   "metadata": {},
   "outputs": [],
   "source": [
    "root.set({\n",
    "        'boxes': \n",
    "            {\n",
    "                'box001': {\n",
    "                    'color': 'blue',\n",
    "                    'width': 1,\n",
    "                    'height': 3,\n",
    "                    'length': 2\n",
    "                },\n",
    "                'box002': {\n",
    "                    'color': 'green',\n",
    "                    'width': 1,\n",
    "                    'height': 2,\n",
    "                    'length': 3\n",
    "                },\n",
    "                'box003': {\n",
    "                    'color': 'yellow',\n",
    "                    'width': 3,\n",
    "                    'height': 2,\n",
    "                    'length': 1\n",
    "                }\n",
    "            }\n",
    "        })"
   ]
  },
  {
   "cell_type": "code",
   "execution_count": 85,
   "metadata": {},
   "outputs": [],
   "source": [
    "root.set({\n",
    "        'Users': \n",
    "            {\n",
    "                'testUsername': {\n",
    "                    'username': 'testUsername',\n",
    "                    'email': 'test@test.com',\n",
    "                    'userSetting': {\n",
    "                        'location': {\n",
    "                            'latitude': 55.537788,\n",
    "                            'longitude': -117.011337\n",
    "                        },\n",
    "                        'enable': True,\n",
    "                        'contacts': {\n",
    "                            'billy': {\n",
    "                                'name': 'billy',\n",
    "                                'phoneNumber': '780-123-4567'\n",
    "                            },\n",
    "                            'bobby': {\n",
    "                                'name': 'bobby',\n",
    "                                'phoneNumber': '780-223-4567'\n",
    "                            },\n",
    "                        },\n",
    "                        'timeBetweenNotifications': 10,\n",
    "                        'NumberOfImagesPerNotification': 15,\n",
    "                        'QRCode': \"123456\"\n",
    "                    },\n",
    "                    'notifications':{\n",
    "                        'qwerty': {\n",
    "                            'datetime': '2020-01-15 15:42:00',\n",
    "                            'notificationID': 'qwerty'\n",
    "                        }\n",
    "                    }\n",
    "                }\n",
    "            },\n",
    "    'SecurityCameras':{\n",
    "        \"123456\": {\n",
    "                'currentImage': \"basi21739sadvuias\",\n",
    "                'timestamp': '2020-01-16 15:42:00',\n",
    "                'QRCode': \"123456\",\n",
    "                'registered': True\n",
    "        }\n",
    "    },\n",
    "    'NotificationImages':{\n",
    "        'qwerty':{\n",
    "            'notificationID': \"qwerty\",\n",
    "            'Images': [\"21ebo123b12ui3b12\", \"12o3iu21o3o13213\", \"ipsahioho21h32138\"]\n",
    "        }\n",
    "    }\n",
    "})"
   ]
  },
  {
   "cell_type": "code",
   "execution_count": null,
   "metadata": {},
   "outputs": [],
   "source": []
  }
 ],
 "metadata": {
  "kernelspec": {
   "display_name": "Python 3",
   "language": "python",
   "name": "python3"
  },
  "language_info": {
   "codemirror_mode": {
    "name": "ipython",
    "version": 3
   },
   "file_extension": ".py",
   "mimetype": "text/x-python",
   "name": "python",
   "nbconvert_exporter": "python",
   "pygments_lexer": "ipython3",
   "version": "3.6.5"
  }
 },
 "nbformat": 4,
 "nbformat_minor": 4
}
